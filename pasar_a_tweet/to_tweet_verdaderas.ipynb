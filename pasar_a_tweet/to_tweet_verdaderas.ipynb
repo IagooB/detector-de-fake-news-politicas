{
 "cells": [
  {
   "metadata": {},
   "cell_type": "code",
   "outputs": [],
   "execution_count": null,
   "source": [
    "import os\n",
    "import pandas as pd\n",
    "from transformers import AutoTokenizer, AutoModelForSeq2SeqLM\n",
    "import matplotlib.pyplot as plt\n",
    "import glob\n",
    "\n",
    "# Cargar el dataset con noticias\n",
    "file_path = \"scrapping/noticias_final.csv\"\n",
    "noticias = pd.read_csv(file_path)\n",
    "\n",
    "# Configurar el modelo de resumen\n",
    "model_name = \"mrm8488/bert2bert_shared-spanish-finetuned-summarization\"\n",
    "tokenizer = AutoTokenizer.from_pretrained(model_name)\n",
    "model = AutoModelForSeq2SeqLM.from_pretrained(model_name)\n",
    "\n",
    "print(f\"Total de noticias cargadas: {len(noticias)}\")"
   ],
   "id": "ebe10497bb14277b"
  },
  {
   "cell_type": "code",
   "execution_count": 4,
   "id": "initial_id",
   "metadata": {
    "ExecuteTime": {
     "end_time": "2024-11-29T10:32:28.860360Z",
     "start_time": "2024-11-29T10:32:28.856623Z"
    },
    "collapsed": true
   },
   "outputs": [],
   "source": [
    "\n",
    "\n",
    "def resumir_noticia(texto, max_length=130, min_length=30):\n",
    "    \"\"\"\n",
    "    Resumir el contenido de una noticia utilizando un modelo NLP.\n",
    "\n",
    "    Args:\n",
    "        texto (str): Texto de entrada a resumir.\n",
    "        max_length (int): Longitud máxima del resumen.\n",
    "        min_length (int): Longitud mínima del resumen.\n",
    "\n",
    "    Returns:\n",
    "        str: Resumen generado.\n",
    "    \"\"\"\n",
    "    texto_recortado = texto[:500]  # Limitar el texto inicial a 500 caracteres\n",
    "    inputs = tokenizer.encode(\"summarize: \" + texto_recortado, return_tensors=\"pt\", max_length=512, truncation=True)\n",
    "    summary_ids = model.generate(\n",
    "        inputs, max_length=max_length, min_length=min_length, \n",
    "        length_penalty=2.0, num_beams=4, early_stopping=True\n",
    "    )\n",
    "    return tokenizer.decode(summary_ids[0], skip_special_tokens=True)\n",
    "\n",
    "# Resumir las noticias en bloques de 100\n",
    "for i in range(0, len(noticias), 100):\n",
    "    subset = noticias.iloc[i:i+100].copy()\n",
    "    subset['Resumen'] = subset['Contenido'].apply(lambda x: resumir_noticia(str(x)))\n",
    "\n",
    "    output_file = f\"noticias_resumidas_{i//100 + 1}.csv\"\n",
    "    subset.to_csv(output_file, index=False)\n",
    "    print(f\"Noticias resumidas guardadas en {output_file}\")\n",
    "\n",
    "# Combinar todos los archivos CSV generados\n",
    "path = \"noticias_resumidas\"\n",
    "csv_files = glob.glob(path + \"/*.csv\")\n",
    "\n",
    "# Leer y concatenar los archivos CSV\n",
    "df_list = (pd.read_csv(file) for file in csv_files)\n",
    "big_df = pd.concat(df_list, ignore_index=True)\n",
    "\n",
    "# Limpiar datos duplicados y columnas irrelevantes\n",
    "big_df.drop_duplicates(inplace=True)\n",
    "big_df.drop(columns=['URL'], inplace=True, errors='ignore')\n",
    "\n",
    "# Calcular el número de palabras en los resúmenes\n",
    "big_df['word_count'] = big_df['Resumen'].apply(lambda x: len(str(x).split()))\n",
    "\n",
    "# Filtrar resúmenes por longitud de palabras\n",
    "big_df = big_df[(big_df['word_count'] > 10) & (big_df['word_count'] < 45)]\n",
    "\n",
    "# Guardar el archivo final\n",
    "final_output_file = \"noticias_res_full.csv\"\n",
    "big_df.to_csv(final_output_file, index=False)\n",
    "print(f\"Archivo final guardado en {final_output_file}\")\n"
   ]
  },
  {
   "cell_type": "code",
   "execution_count": 5,
   "id": "9ebfaa79b0014459",
   "metadata": {
    "ExecuteTime": {
     "end_time": "2024-11-29T10:32:33.282846Z",
     "start_time": "2024-11-29T10:32:29.558838Z"
    }
   },
   "outputs": [
    {
     "name": "stderr",
     "output_type": "stream",
     "text": [
      "Config of the encoder: <class 'transformers.models.bert.modeling_bert.BertModel'> is overwritten by shared encoder config: BertConfig {\n",
      "  \"_name_or_path\": \"dccuchile/bert-base-spanish-wwm-cased\",\n",
      "  \"architectures\": [\n",
      "    \"BertForMaskedLM\"\n",
      "  ],\n",
      "  \"attention_probs_dropout_prob\": 0.1,\n",
      "  \"classifier_dropout\": null,\n",
      "  \"gradient_checkpointing\": false,\n",
      "  \"hidden_act\": \"gelu\",\n",
      "  \"hidden_dropout_prob\": 0.1,\n",
      "  \"hidden_size\": 768,\n",
      "  \"initializer_range\": 0.02,\n",
      "  \"intermediate_size\": 3072,\n",
      "  \"layer_norm_eps\": 1e-12,\n",
      "  \"max_position_embeddings\": 512,\n",
      "  \"model_type\": \"bert\",\n",
      "  \"num_attention_heads\": 12,\n",
      "  \"num_hidden_layers\": 12,\n",
      "  \"output_past\": true,\n",
      "  \"pad_token_id\": 1,\n",
      "  \"position_embedding_type\": \"absolute\",\n",
      "  \"transformers_version\": \"4.46.3\",\n",
      "  \"type_vocab_size\": 2,\n",
      "  \"use_cache\": true,\n",
      "  \"vocab_size\": 31002\n",
      "}\n",
      "\n",
      "Config of the decoder: <class 'transformers.models.bert.modeling_bert.BertLMHeadModel'> is overwritten by shared decoder config: BertConfig {\n",
      "  \"_name_or_path\": \"dccuchile/bert-base-spanish-wwm-cased\",\n",
      "  \"add_cross_attention\": true,\n",
      "  \"architectures\": [\n",
      "    \"BertForMaskedLM\"\n",
      "  ],\n",
      "  \"attention_probs_dropout_prob\": 0.1,\n",
      "  \"classifier_dropout\": null,\n",
      "  \"gradient_checkpointing\": false,\n",
      "  \"hidden_act\": \"gelu\",\n",
      "  \"hidden_dropout_prob\": 0.1,\n",
      "  \"hidden_size\": 768,\n",
      "  \"initializer_range\": 0.02,\n",
      "  \"intermediate_size\": 3072,\n",
      "  \"is_decoder\": true,\n",
      "  \"layer_norm_eps\": 1e-12,\n",
      "  \"max_position_embeddings\": 512,\n",
      "  \"model_type\": \"bert\",\n",
      "  \"num_attention_heads\": 12,\n",
      "  \"num_hidden_layers\": 12,\n",
      "  \"output_past\": true,\n",
      "  \"pad_token_id\": 1,\n",
      "  \"position_embedding_type\": \"absolute\",\n",
      "  \"transformers_version\": \"4.46.3\",\n",
      "  \"type_vocab_size\": 2,\n",
      "  \"use_cache\": true,\n",
      "  \"vocab_size\": 31002\n",
      "}\n",
      "\n",
      "The following encoder weights were not tied to the decoder ['bert/pooler']\n",
      "The following encoder weights were not tied to the decoder ['bert/pooler']\n",
      "The following encoder weights were not tied to the decoder ['bert/pooler']\n",
      "The following encoder weights were not tied to the decoder ['bert/pooler']\n"
     ]
    },
    {
     "name": "stdout",
     "output_type": "stream",
     "text": [
      "6962\n"
     ]
    }
   ],
   "source": [
    "\n",
    "# Crear histograma del recuento de palabras\n",
    "plt.figure(figsize=(10, 6))\n",
    "plt.hist(big_df['word_count'], bins=40, edgecolor='black')\n",
    "plt.xlabel('Número de palabras en el resumen')\n",
    "plt.ylabel('Frecuencia')\n",
    "plt.title('Histograma del recuento de palabras en los resúmenes')\n",
    "plt.tight_layout()\n",
    "plt.show()\n"
   ]
  }
 ],
 "metadata": {
  "kernelspec": {
   "display_name": "Python 3",
   "language": "python",
   "name": "python3"
  },
  "language_info": {
   "codemirror_mode": {
    "name": "ipython",
    "version": 2
   },
   "file_extension": ".py",
   "mimetype": "text/x-python",
   "name": "python",
   "nbconvert_exporter": "python",
   "pygments_lexer": "ipython2",
   "version": "2.7.6"
  }
 },
 "nbformat": 4,
 "nbformat_minor": 5
}
