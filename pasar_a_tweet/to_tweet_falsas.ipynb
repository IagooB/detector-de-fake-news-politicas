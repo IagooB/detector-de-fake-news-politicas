{
 "cells": [
  {
   "metadata": {},
   "cell_type": "code",
   "outputs": [],
   "execution_count": null,
   "source": [
    "import os\n",
    "import pandas as pd\n",
    "from transformers import AutoTokenizer, AutoModelForSeq2SeqLM\n",
    "import matplotlib.pyplot as plt\n",
    "\n",
    "# Cargar el dataset de noticias falsas\n",
    "file_path = \"noticias_falsas_cleaned.csv\"\n",
    "noticias = pd.read_csv(file_path)\n",
    "\n",
    "# Configuración del modelo de resumen\n",
    "model_name = \"mrm8488/bert2bert_shared-spanish-finetuned-summarization\"\n",
    "tokenizer = AutoTokenizer.from_pretrained(model_name)\n",
    "model = AutoModelForSeq2SeqLM.from_pretrained(model_name)\n",
    "\n",
    "print(f\"Total de noticias cargadas: {len(noticias)}\")"
   ],
   "id": "c7b651eeff74d15a"
  },
  {
   "cell_type": "code",
   "id": "initial_id",
   "metadata": {
    "collapsed": true,
    "ExecuteTime": {
     "end_time": "2024-12-03T09:28:35.268824Z",
     "start_time": "2024-12-03T09:28:31.604111Z"
    }
   },
   "source": [
    "\n",
    "\n",
    "def resumir_noticia(texto, max_length=130, min_length=30):\n",
    "    \"\"\"\n",
    "    Función para resumir el contenido de una noticia utilizando un modelo de NLP.\n",
    "    \"\"\"\n",
    "    texto_recortado = texto[:500]  # Limitar el texto inicial a 500 caracteres\n",
    "    inputs = tokenizer.encode(\"summarize: \" + texto_recortado, return_tensors=\"pt\", max_length=512, truncation=True)\n",
    "    summary_ids = model.generate(\n",
    "        inputs, max_length=max_length, min_length=min_length, \n",
    "        length_penalty=2.0, num_beams=4, early_stopping=True\n",
    "    )\n",
    "    return tokenizer.decode(summary_ids[0], skip_special_tokens=True)\n",
    "\n",
    "# Dividir las noticias en bloques de 100 y resumir\n",
    "for i in range(0, len(noticias), 100):\n",
    "    subset = noticias.iloc[i:i+100].copy()\n",
    "    subset['Resumen'] = subset['Contenido'].apply(lambda x: resumir_noticia(str(x)))\n",
    "\n",
    "    output_file = f\"falsas/noticias_falsas_resumidas_{i//100 + 1}.csv\"\n",
    "    subset.to_csv(output_file, index=False)\n",
    "    print(f\"Noticias resumidas guardadas en {output_file}\")\n",
    "\n",
    "# Combinar todos los resúmenes en un único DataFrame\n",
    "path = \"falsas\"\n",
    "csv_files = glob.glob(path + \"/*.csv\")\n",
    "\n",
    "# Leer y concatenar los archivos CSV generados\n",
    "df_list = (pd.read_csv(file) for file in csv_files)\n",
    "big_df = pd.concat(df_list, ignore_index=True)\n",
    "\n",
    "# Limpiar el DataFrame combinado\n",
    "big_df.drop(columns=['URL'], inplace=True, errors='ignore')\n",
    "big_df['word_count'] = big_df['Resumen'].apply(lambda x: len(str(x).split()))\n",
    "\n",
    "# Filtrar resúmenes por longitud de palabras\n",
    "big_df = big_df[(big_df['word_count'] > 10) & (big_df['word_count'] < 45)]\n",
    "\n",
    "# Guardar el DataFrame final en un archivo CSV\n",
    "final_output_file = \"falsas_res_full.csv\"\n",
    "big_df.to_csv(final_output_file, index=False)\n",
    "print(f\"Archivo final guardado en {final_output_file}\")\n",
    "\n",
    "# Visualizar el histograma del recuento de palabras\n",
    "plt.figure(figsize=(10, 6))\n",
    "plt.hist(big_df['word_count'], bins=40, edgecolor='black')\n",
    "plt.xlabel('Número de palabras en el resumen')\n",
    "plt.ylabel('Frecuencia')\n",
    "plt.title('Histograma del recuento de palabras en los resúmenes')\n",
    "plt.tight_layout()\n",
    "plt.show()\n"
   ],
   "outputs": [],
   "execution_count": 2
  }
 ],
 "metadata": {
  "kernelspec": {
   "display_name": "Python 3",
   "language": "python",
   "name": "python3"
  },
  "language_info": {
   "codemirror_mode": {
    "name": "ipython",
    "version": 2
   },
   "file_extension": ".py",
   "mimetype": "text/x-python",
   "name": "python",
   "nbconvert_exporter": "python",
   "pygments_lexer": "ipython2",
   "version": "2.7.6"
  }
 },
 "nbformat": 4,
 "nbformat_minor": 5
}
