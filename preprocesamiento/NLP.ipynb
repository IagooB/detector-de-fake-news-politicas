{
 "cells": [
  {
   "metadata": {},
   "cell_type": "code",
   "outputs": [],
   "execution_count": null,
   "source": [
    "import pandas as pd\n",
    "import re\n",
    "from sklearn.feature_extraction.text import TfidfVectorizer\n",
    "from sklearn.model_selection import train_test_split\n",
    "from nltk.stem import WordNetLemmatizer\n",
    "from nltk.corpus import stopwords\n",
    "import nltk\n",
    "import scipy.sparse\n",
    "\n",
    "# Descargar recursos necesarios para NLTK\n",
    "nltk.download('wordnet')\n",
    "nltk.download('omw-1.4')\n",
    "nltk.download('stopwords')\n",
    "\n",
    "# Cargar el dataset unificado\n",
    "dataset_unificado = pd.read_csv(\"dataset_unificado.csv\")"
   ],
   "id": "ccb00f55c21860e2"
  },
  {
   "metadata": {
    "ExecuteTime": {
     "end_time": "2025-01-08T17:45:54.626354Z",
     "start_time": "2025-01-08T17:45:54.357146Z"
    }
   },
   "cell_type": "code",
   "source": [
    "\n",
    "\n",
    "# Configuración de stopwords y lematización\n",
    "stop_words = set(stopwords.words('spanish'))\n",
    "lemmatizer = WordNetLemmatizer()\n",
    "\n",
    "def procesar_texto_complejo(texto):\n",
    "    \"\"\"\n",
    "    Preprocesa el texto eliminando URLs, caracteres especiales, stopwords y aplicando lematización.\n",
    "\n",
    "    Args:\n",
    "        texto (str): Texto a preprocesar.\n",
    "\n",
    "    Returns:\n",
    "        str: Texto preprocesado.\n",
    "    \"\"\"\n",
    "    texto = re.sub(r'http\\S+', '', texto)  # Eliminar URLs\n",
    "    texto = re.sub(r'[^a-zA-ZáéíóúñÁÉÍÓÚÑ\\s]', '', texto)  # Eliminar caracteres especiales\n",
    "    texto = texto.lower()  # Convertir a minúsculas\n",
    "    palabras = texto.split()\n",
    "    palabras = [lemmatizer.lemmatize(palabra) for palabra in palabras if palabra not in stop_words]  # Lematizar y eliminar stopwords\n",
    "    return ' '.join(palabras)\n",
    "\n",
    "# Aplicar preprocesamiento al contenido y título\n",
    "dataset_unificado[\"Contenido\"] = dataset_unificado[\"Contenido\"].apply(procesar_texto_complejo)\n",
    "dataset_unificado[\"Título\"] = dataset_unificado[\"Título\"].apply(procesar_texto_complejo)\n",
    "\n",
    "# Guardar dataset preprocesado\n",
    "dataset_unificado.to_csv(\"dataset_unificado_preprocesado.csv\", index=False)\n",
    "\n",
    "# Representar el texto usando TF-IDF\n",
    "vectorizer = TfidfVectorizer(max_features=10000, ngram_range=(1, 2))\n",
    "X_tfidf = vectorizer.fit_transform(dataset_unificado[\"Contenido\"] + \" \" + dataset_unificado[\"Título\"])\n",
    "\n",
    "# Guardar el TF-IDF para futuros usos\n",
    "scipy.sparse.save_npz(\"X_tfidf.npz\", X_tfidf)\n",
    "\n",
    "# División de los datos para entrenamiento, validación y prueba\n",
    "y = dataset_unificado[\"etiqueta\"]\n",
    "X_train, X_temp, y_train, y_temp = train_test_split(X_tfidf, y, test_size=0.3, random_state=42)\n",
    "X_val, X_test, y_val, y_test = train_test_split(X_temp, y_temp, test_size=0.5, random_state=42)\n",
    "\n"
   ],
   "id": "f381544dc1f5e42e",
   "outputs": [
    {
     "name": "stderr",
     "output_type": "stream",
     "text": [
      "[nltk_data] Downloading package wordnet to\n",
      "[nltk_data]     C:\\Users\\iagob\\AppData\\Roaming\\nltk_data...\n",
      "[nltk_data]   Package wordnet is already up-to-date!\n",
      "[nltk_data] Downloading package omw-1.4 to\n",
      "[nltk_data]     C:\\Users\\iagob\\AppData\\Roaming\\nltk_data...\n",
      "[nltk_data]   Package omw-1.4 is already up-to-date!\n",
      "[nltk_data] Downloading package stopwords to\n",
      "[nltk_data]     C:\\Users\\iagob\\AppData\\Roaming\\nltk_data...\n",
      "[nltk_data]   Package stopwords is already up-to-date!\n"
     ]
    },
    {
     "data": {
      "text/plain": [
       "True"
      ]
     },
     "execution_count": 8,
     "metadata": {},
     "output_type": "execute_result"
    }
   ],
   "execution_count": 8
  },
  {
   "metadata": {},
   "cell_type": "code",
   "outputs": [],
   "execution_count": null,
   "source": [
    "\n",
    "# Guardar datos procesados\n",
    "scipy.sparse.save_npz(\"X_train_tfidf.npz\", X_train)\n",
    "scipy.sparse.save_npz(\"X_val_tfidf.npz\", X_val)\n",
    "scipy.sparse.save_npz(\"X_test_tfidf.npz\", X_test)\n",
    "y_train.to_csv(\"y_train_final.csv\", index=False)\n",
    "y_val.to_csv(\"y_val_final.csv\", index=False)\n",
    "y_test.to_csv(\"y_test_final.csv\", index=False)\n",
    "\n",
    "print(\"Preprocesamiento avanzado completado y datos guardados.\")"
   ],
   "id": "d710b05d4660409"
  }
 ],
 "metadata": {
  "kernelspec": {
   "display_name": "Python 3",
   "language": "python",
   "name": "python3"
  },
  "language_info": {
   "codemirror_mode": {
    "name": "ipython",
    "version": 2
   },
   "file_extension": ".py",
   "mimetype": "text/x-python",
   "name": "python",
   "nbconvert_exporter": "python",
   "pygments_lexer": "ipython2",
   "version": "2.7.6"
  }
 },
 "nbformat": 4,
 "nbformat_minor": 5
}
